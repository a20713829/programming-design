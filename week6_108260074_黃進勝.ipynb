{
  "nbformat": 4,
  "nbformat_minor": 0,
  "metadata": {
    "colab": {
      "name": "week6 108260074  黃進勝.ipynb",
      "provenance": [],
      "collapsed_sections": []
    },
    "kernelspec": {
      "name": "python3",
      "display_name": "Python 3"
    }
  },
  "cells": [
    {
      "cell_type": "code",
      "metadata": {
        "id": "XWvRbcffFYuH",
        "colab_type": "code",
        "colab": {
          "base_uri": "https://localhost:8080/",
          "height": 102
        },
        "outputId": "ed66b91e-feda-40a0-f95d-4ddd617b1ecb"
      },
      "source": [
        "第一次期中考=int(input('請輸入第一次期中考成績'))\n",
        "第二次期中考=int(input('請輸入第二次期中考成績'))\n",
        "期末考=int(input('請輸入期末考成績'))\n",
        "總分=第一次期中考+第二次期中考+期末考\n",
        "平均=總分/3\n",
        "print('總分為',總分)\n",
        "print('平均',平均)"
      ],
      "execution_count": 6,
      "outputs": [
        {
          "output_type": "stream",
          "text": [
            "請輸入第一次期中考成績75\n",
            "請輸入第二次期中考成績80\n",
            "請輸入期末考成績65\n",
            "總分為 220\n",
            "平均 73.33333333333333\n"
          ],
          "name": "stdout"
        }
      ]
    },
    {
      "cell_type": "code",
      "metadata": {
        "id": "OpDjIGDoYcrV",
        "colab_type": "code",
        "colab": {
          "base_uri": "https://localhost:8080/",
          "height": 68
        },
        "outputId": "3df906a0-b20b-4032-d060-89f16cca6d77"
      },
      "source": [
        "尺=int(input('請輸入幾尺'))\n",
        "吋=int(input('請輸入幾吋'))\n",
        "公分=(尺*12+8)*2.54\n",
        "print('轉換成',公分) #公分"
      ],
      "execution_count": 8,
      "outputs": [
        {
          "output_type": "stream",
          "text": [
            "請輸入幾尺5\n",
            "請輸入幾吋8\n",
            "轉換成 172.72\n"
          ],
          "name": "stdout"
        }
      ]
    },
    {
      "cell_type": "code",
      "metadata": {
        "id": "16vRSep8ZTGH",
        "colab_type": "code",
        "colab": {
          "base_uri": "https://localhost:8080/",
          "height": 51
        },
        "outputId": "2c744ae1-fa21-4f31-8128-67d0aabeeb56"
      },
      "source": [
        "座號=int(input('請輸入座號?'))\n",
        "組別=int(座號/4)\n",
        "print('組別為',組別)"
      ],
      "execution_count": 9,
      "outputs": [
        {
          "output_type": "stream",
          "text": [
            "請輸入座號?19\n",
            "組別為 4\n"
          ],
          "name": "stdout"
        }
      ]
    },
    {
      "cell_type": "code",
      "metadata": {
        "id": "d_Xiz3lDZ2CW",
        "colab_type": "code",
        "colab": {
          "base_uri": "https://localhost:8080/",
          "height": 51
        },
        "outputId": "93f105e2-792f-472e-f219-40d25c1b1eab"
      },
      "source": [
        "罐數=int(input('請輸入購買罐數?'))\n",
        "打=int(罐數/12)\n",
        "花費=(打*200)+(罐數-打*12)*20\n",
        "print('需花費',花費)\n"
      ],
      "execution_count": 10,
      "outputs": [
        {
          "output_type": "stream",
          "text": [
            "請輸入購買罐數?30\n",
            "需花費 520\n"
          ],
          "name": "stdout"
        }
      ]
    },
    {
      "cell_type": "code",
      "metadata": {
        "id": "eE6gEAGza5Vm",
        "colab_type": "code",
        "colab": {
          "base_uri": "https://localhost:8080/",
          "height": 34
        },
        "outputId": "1851c4bb-db13-45a1-fa74-822243d2b60d"
      },
      "source": [
        "print('1KB=(2**10)yte')\n"
      ],
      "execution_count": 13,
      "outputs": [
        {
          "output_type": "stream",
          "text": [
            "1KB=(2**10)yte\n"
          ],
          "name": "stdout"
        }
      ]
    },
    {
      "cell_type": "code",
      "metadata": {
        "id": "ZkjnZ9LFWeMV",
        "colab_type": "code",
        "colab": {}
      },
      "source": [
        ""
      ],
      "execution_count": 0,
      "outputs": []
    }
  ]
}